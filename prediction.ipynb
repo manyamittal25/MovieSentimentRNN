{
 "cells": [
  {
   "cell_type": "code",
   "execution_count": 1,
   "metadata": {},
   "outputs": [],
   "source": [
    "# Step 1: Import Libraries and Load the Model\n",
    "import numpy as np\n",
    "import tensorflow as tf\n",
    "from tensorflow.keras.datasets import imdb\n",
    "from tensorflow.keras.preprocessing import sequence\n",
    "from tensorflow.keras.models import load_model"
   ]
  },
  {
   "cell_type": "code",
   "execution_count": 2,
   "metadata": {},
   "outputs": [],
   "source": [
    "\n",
    "# Load the IMDB dataset word index\n",
    "word_index = imdb.get_word_index()\n",
    "reverse_word_index = {value: key for key, value in word_index.items()}"
   ]
  },
  {
   "cell_type": "code",
   "execution_count": 3,
   "metadata": {},
   "outputs": [
    {
     "name": "stderr",
     "output_type": "stream",
     "text": [
      "WARNING:absl:Compiled the loaded model, but the compiled metrics have yet to be built. `model.compile_metrics` will be empty until you train or evaluate the model.\n"
     ]
    },
    {
     "data": {
      "text/html": [
       "<pre style=\"white-space:pre;overflow-x:auto;line-height:normal;font-family:Menlo,'DejaVu Sans Mono',consolas,'Courier New',monospace\"><span style=\"font-weight: bold\">Model: \"sequential_1\"</span>\n",
       "</pre>\n"
      ],
      "text/plain": [
       "\u001b[1mModel: \"sequential_1\"\u001b[0m\n"
      ]
     },
     "metadata": {},
     "output_type": "display_data"
    },
    {
     "data": {
      "text/html": [
       "<pre style=\"white-space:pre;overflow-x:auto;line-height:normal;font-family:Menlo,'DejaVu Sans Mono',consolas,'Courier New',monospace\">┏━━━━━━━━━━━━━━━━━━━━━━━━━━━━━━━━━┳━━━━━━━━━━━━━━━━━━━━━━━━┳━━━━━━━━━━━━━━━┓\n",
       "┃<span style=\"font-weight: bold\"> Layer (type)                    </span>┃<span style=\"font-weight: bold\"> Output Shape           </span>┃<span style=\"font-weight: bold\">       Param # </span>┃\n",
       "┡━━━━━━━━━━━━━━━━━━━━━━━━━━━━━━━━━╇━━━━━━━━━━━━━━━━━━━━━━━━╇━━━━━━━━━━━━━━━┩\n",
       "│ embedding_1 (<span style=\"color: #0087ff; text-decoration-color: #0087ff\">Embedding</span>)         │ (<span style=\"color: #00d7ff; text-decoration-color: #00d7ff\">None</span>, <span style=\"color: #00af00; text-decoration-color: #00af00\">500</span>, <span style=\"color: #00af00; text-decoration-color: #00af00\">128</span>)       │     <span style=\"color: #00af00; text-decoration-color: #00af00\">1,280,000</span> │\n",
       "├─────────────────────────────────┼────────────────────────┼───────────────┤\n",
       "│ simple_rnn_1 (<span style=\"color: #0087ff; text-decoration-color: #0087ff\">SimpleRNN</span>)        │ (<span style=\"color: #00d7ff; text-decoration-color: #00d7ff\">None</span>, <span style=\"color: #00af00; text-decoration-color: #00af00\">128</span>)            │        <span style=\"color: #00af00; text-decoration-color: #00af00\">32,896</span> │\n",
       "├─────────────────────────────────┼────────────────────────┼───────────────┤\n",
       "│ dense_1 (<span style=\"color: #0087ff; text-decoration-color: #0087ff\">Dense</span>)                 │ (<span style=\"color: #00d7ff; text-decoration-color: #00d7ff\">None</span>, <span style=\"color: #00af00; text-decoration-color: #00af00\">1</span>)              │           <span style=\"color: #00af00; text-decoration-color: #00af00\">129</span> │\n",
       "└─────────────────────────────────┴────────────────────────┴───────────────┘\n",
       "</pre>\n"
      ],
      "text/plain": [
       "┏━━━━━━━━━━━━━━━━━━━━━━━━━━━━━━━━━┳━━━━━━━━━━━━━━━━━━━━━━━━┳━━━━━━━━━━━━━━━┓\n",
       "┃\u001b[1m \u001b[0m\u001b[1mLayer (type)                   \u001b[0m\u001b[1m \u001b[0m┃\u001b[1m \u001b[0m\u001b[1mOutput Shape          \u001b[0m\u001b[1m \u001b[0m┃\u001b[1m \u001b[0m\u001b[1m      Param #\u001b[0m\u001b[1m \u001b[0m┃\n",
       "┡━━━━━━━━━━━━━━━━━━━━━━━━━━━━━━━━━╇━━━━━━━━━━━━━━━━━━━━━━━━╇━━━━━━━━━━━━━━━┩\n",
       "│ embedding_1 (\u001b[38;5;33mEmbedding\u001b[0m)         │ (\u001b[38;5;45mNone\u001b[0m, \u001b[38;5;34m500\u001b[0m, \u001b[38;5;34m128\u001b[0m)       │     \u001b[38;5;34m1,280,000\u001b[0m │\n",
       "├─────────────────────────────────┼────────────────────────┼───────────────┤\n",
       "│ simple_rnn_1 (\u001b[38;5;33mSimpleRNN\u001b[0m)        │ (\u001b[38;5;45mNone\u001b[0m, \u001b[38;5;34m128\u001b[0m)            │        \u001b[38;5;34m32,896\u001b[0m │\n",
       "├─────────────────────────────────┼────────────────────────┼───────────────┤\n",
       "│ dense_1 (\u001b[38;5;33mDense\u001b[0m)                 │ (\u001b[38;5;45mNone\u001b[0m, \u001b[38;5;34m1\u001b[0m)              │           \u001b[38;5;34m129\u001b[0m │\n",
       "└─────────────────────────────────┴────────────────────────┴───────────────┘\n"
      ]
     },
     "metadata": {},
     "output_type": "display_data"
    },
    {
     "data": {
      "text/html": [
       "<pre style=\"white-space:pre;overflow-x:auto;line-height:normal;font-family:Menlo,'DejaVu Sans Mono',consolas,'Courier New',monospace\"><span style=\"font-weight: bold\"> Total params: </span><span style=\"color: #00af00; text-decoration-color: #00af00\">1,313,027</span> (5.01 MB)\n",
       "</pre>\n"
      ],
      "text/plain": [
       "\u001b[1m Total params: \u001b[0m\u001b[38;5;34m1,313,027\u001b[0m (5.01 MB)\n"
      ]
     },
     "metadata": {},
     "output_type": "display_data"
    },
    {
     "data": {
      "text/html": [
       "<pre style=\"white-space:pre;overflow-x:auto;line-height:normal;font-family:Menlo,'DejaVu Sans Mono',consolas,'Courier New',monospace\"><span style=\"font-weight: bold\"> Trainable params: </span><span style=\"color: #00af00; text-decoration-color: #00af00\">1,313,025</span> (5.01 MB)\n",
       "</pre>\n"
      ],
      "text/plain": [
       "\u001b[1m Trainable params: \u001b[0m\u001b[38;5;34m1,313,025\u001b[0m (5.01 MB)\n"
      ]
     },
     "metadata": {},
     "output_type": "display_data"
    },
    {
     "data": {
      "text/html": [
       "<pre style=\"white-space:pre;overflow-x:auto;line-height:normal;font-family:Menlo,'DejaVu Sans Mono',consolas,'Courier New',monospace\"><span style=\"font-weight: bold\"> Non-trainable params: </span><span style=\"color: #00af00; text-decoration-color: #00af00\">0</span> (0.00 B)\n",
       "</pre>\n"
      ],
      "text/plain": [
       "\u001b[1m Non-trainable params: \u001b[0m\u001b[38;5;34m0\u001b[0m (0.00 B)\n"
      ]
     },
     "metadata": {},
     "output_type": "display_data"
    },
    {
     "data": {
      "text/html": [
       "<pre style=\"white-space:pre;overflow-x:auto;line-height:normal;font-family:Menlo,'DejaVu Sans Mono',consolas,'Courier New',monospace\"><span style=\"font-weight: bold\"> Optimizer params: </span><span style=\"color: #00af00; text-decoration-color: #00af00\">2</span> (12.00 B)\n",
       "</pre>\n"
      ],
      "text/plain": [
       "\u001b[1m Optimizer params: \u001b[0m\u001b[38;5;34m2\u001b[0m (12.00 B)\n"
      ]
     },
     "metadata": {},
     "output_type": "display_data"
    }
   ],
   "source": [
    "# Load the pre-trained model with ReLU activation\n",
    "model = load_model('simple_rnn_imdb.h5')\n",
    "model.summary()"
   ]
  },
  {
   "cell_type": "code",
   "execution_count": 4,
   "metadata": {},
   "outputs": [
    {
     "data": {
      "text/plain": [
       "[array([[-1.4301412e-01, -1.1763346e+00, -1.5554591e-01, ...,\n",
       "          1.4570136e-01,  1.4847594e+00,  1.1310749e+00],\n",
       "        [ 5.7612471e-03,  7.8012170e-03,  9.3596607e-02, ...,\n",
       "         -1.6574502e-02,  4.2237498e-02, -2.4682213e-02],\n",
       "        [ 1.9104013e-02,  1.6007981e-01,  2.9637608e-01, ...,\n",
       "         -9.6225113e-02, -6.8291873e-02, -6.4891838e-02],\n",
       "        ...,\n",
       "        [ 2.5825856e-02, -3.0610016e-02, -4.6242483e-02, ...,\n",
       "         -2.7392935e-02,  4.0354960e-02,  5.6149449e-02],\n",
       "        [-5.3232014e-02,  2.7354263e-02, -5.3183015e-02, ...,\n",
       "          1.3757535e-02, -7.3915059e-03,  1.4828682e-03],\n",
       "        [-6.5324339e-03, -3.5476997e-02, -4.4341993e-02, ...,\n",
       "          1.1936219e-03,  1.1484349e-01,  3.9918814e-02]], dtype=float32),\n",
       " array([[ 0.09163178, -0.14672312,  0.05249622, ...,  0.04554696,\n",
       "         -0.03968094,  0.00924808],\n",
       "        [ 0.21355352, -0.13883416,  0.03558195, ..., -0.04931701,\n",
       "         -0.03131069,  0.00827523],\n",
       "        [-0.0260297 ,  0.0534893 ,  0.16714858, ..., -0.18667285,\n",
       "         -0.03376087, -0.04242216],\n",
       "        ...,\n",
       "        [-0.02299094,  0.14437605, -0.11610268, ...,  0.01140737,\n",
       "          0.13282564,  0.12321995],\n",
       "        [-0.18856582, -0.11690387, -0.03117657, ...,  0.03540285,\n",
       "          0.11937927, -0.1988985 ],\n",
       "        [-0.01081264,  0.08914971, -0.12186255, ..., -0.11970739,\n",
       "          0.1386212 , -0.18030544]], dtype=float32),\n",
       " array([[ 0.05162865, -0.07730845, -0.07921036, ...,  0.08321636,\n",
       "         -0.0750147 , -0.05019394],\n",
       "        [-0.12844889,  0.01557725, -0.01075141, ..., -0.03829489,\n",
       "          0.00827528, -0.21979932],\n",
       "        [ 0.07686955, -0.04151707, -0.08192259, ...,  0.09246295,\n",
       "         -0.07976881, -0.01895615],\n",
       "        ...,\n",
       "        [-0.03158284, -0.11473119, -0.01536191, ...,  0.09017535,\n",
       "          0.03862012, -0.10156044],\n",
       "        [ 0.09662736, -0.10646179,  0.01619475, ..., -0.00119979,\n",
       "          0.12277249, -0.11485705],\n",
       "        [ 0.12024768, -0.19959849,  0.02207002, ..., -0.09139676,\n",
       "          0.11567527, -0.1945987 ]], dtype=float32),\n",
       " array([ 0.03866024, -0.04881727,  0.02947124, -0.03145966,  0.01469048,\n",
       "         0.05133116,  0.01885583,  0.00440114, -0.02217607,  0.00417823,\n",
       "         0.01821678,  0.00180748, -0.00766827, -0.00091535,  0.01112242,\n",
       "         0.01210118, -0.01886687, -0.02167074, -0.03445903, -0.02263885,\n",
       "         0.01614607,  0.03632296,  0.03129578, -0.01318873, -0.00737818,\n",
       "         0.01198554, -0.01232419, -0.02537913, -0.01415425, -0.03443568,\n",
       "        -0.00663531, -0.0041259 , -0.01148646,  0.02792721, -0.04366538,\n",
       "        -0.00648475, -0.04285881, -0.04910963, -0.02436879, -0.01554123,\n",
       "        -0.04137476,  0.00314459, -0.01882125, -0.02776812, -0.00933206,\n",
       "        -0.02853666,  0.00675074,  0.03966916, -0.03551104, -0.0267796 ,\n",
       "         0.01046763, -0.01635759,  0.03300063,  0.0030881 , -0.0432813 ,\n",
       "         0.03148997, -0.01553097,  0.00669126,  0.02171513, -0.02999913,\n",
       "         0.02540782,  0.03841696, -0.021487  ,  0.03134975,  0.0171277 ,\n",
       "        -0.02450592, -0.04138552,  0.03147339,  0.01229438, -0.00567633,\n",
       "         0.00551097, -0.02178039, -0.02833613, -0.03309872, -0.04100094,\n",
       "        -0.02412479, -0.02720325, -0.02930714,  0.02474258,  0.0092926 ,\n",
       "         0.01029415,  0.05067156, -0.05346775, -0.0249607 , -0.01777196,\n",
       "        -0.02296325,  0.00047212,  0.00120777,  0.02472255,  0.02288225,\n",
       "        -0.02448171, -0.04067641,  0.03235759, -0.05838737, -0.01409559,\n",
       "         0.00265318, -0.01868288, -0.03308803,  0.01147373, -0.02803552,\n",
       "         0.00892485,  0.03811124,  0.02128384, -0.02945032, -0.02670215,\n",
       "         0.02192553, -0.00590052,  0.00924726, -0.01656453, -0.01875061,\n",
       "         0.01318965, -0.01472305, -0.03682419, -0.0479724 ,  0.00494157,\n",
       "        -0.00182231, -0.03108494, -0.0314911 , -0.02555741, -0.0268039 ,\n",
       "        -0.02760622,  0.03353476, -0.02184048, -0.0176616 ,  0.03467209,\n",
       "        -0.02668799,  0.0115506 , -0.01004126], dtype=float32),\n",
       " array([[-1.81675285e-01],\n",
       "        [ 7.70911202e-02],\n",
       "        [ 5.71438856e-02],\n",
       "        [ 2.16442406e-01],\n",
       "        [ 1.67804852e-01],\n",
       "        [-1.44750485e-02],\n",
       "        [-2.15035453e-02],\n",
       "        [-2.59314299e-01],\n",
       "        [ 1.82924330e-01],\n",
       "        [-2.44408920e-01],\n",
       "        [ 2.54110545e-01],\n",
       "        [-9.81193066e-01],\n",
       "        [ 1.74942002e-01],\n",
       "        [ 8.60214233e-02],\n",
       "        [ 1.00166641e-01],\n",
       "        [-1.62479207e-01],\n",
       "        [-3.46444314e-04],\n",
       "        [ 2.23985761e-02],\n",
       "        [ 2.16827109e-01],\n",
       "        [ 1.60464987e-01],\n",
       "        [-1.91760287e-01],\n",
       "        [-2.16691121e-01],\n",
       "        [ 2.20474139e-01],\n",
       "        [-1.42610684e-01],\n",
       "        [ 7.79616162e-02],\n",
       "        [-1.44000471e-01],\n",
       "        [-1.52468994e-01],\n",
       "        [ 7.41736814e-02],\n",
       "        [-2.72425786e-02],\n",
       "        [ 1.82473347e-01],\n",
       "        [ 2.94336617e-01],\n",
       "        [-1.36492670e-01],\n",
       "        [-1.58903793e-01],\n",
       "        [-7.44950725e-03],\n",
       "        [ 1.42459035e-01],\n",
       "        [ 1.59588158e-01],\n",
       "        [ 2.86257025e-02],\n",
       "        [ 3.25395823e-01],\n",
       "        [ 3.29100229e-02],\n",
       "        [ 1.91368952e-01],\n",
       "        [ 2.06812903e-01],\n",
       "        [-8.67042691e-02],\n",
       "        [-2.42656484e-01],\n",
       "        [-2.39327565e-01],\n",
       "        [-1.49871320e-01],\n",
       "        [-1.56675264e-01],\n",
       "        [ 1.30244838e-02],\n",
       "        [-1.13198072e-01],\n",
       "        [-9.11528394e-02],\n",
       "        [ 1.29810601e-01],\n",
       "        [ 1.56853929e-01],\n",
       "        [ 7.90330097e-02],\n",
       "        [-2.29989603e-01],\n",
       "        [ 1.31959459e-02],\n",
       "        [ 6.30117297e-01],\n",
       "        [-3.23901683e-01],\n",
       "        [ 1.43908322e-01],\n",
       "        [ 7.52851889e-02],\n",
       "        [-1.45970672e-01],\n",
       "        [ 1.45431042e-01],\n",
       "        [ 2.45630130e-01],\n",
       "        [-2.92915732e-01],\n",
       "        [-6.73580766e-02],\n",
       "        [ 1.32102922e-01],\n",
       "        [ 3.60134363e-01],\n",
       "        [ 1.22476369e-02],\n",
       "        [-1.28934635e-02],\n",
       "        [ 8.62422466e-01],\n",
       "        [-1.38516963e-01],\n",
       "        [ 1.73664242e-01],\n",
       "        [ 1.24386512e-01],\n",
       "        [ 1.15749659e-02],\n",
       "        [ 2.89641559e-01],\n",
       "        [-1.16739534e-01],\n",
       "        [-2.68088449e-02],\n",
       "        [-3.30718979e-02],\n",
       "        [-1.39099648e-02],\n",
       "        [ 3.12368661e-01],\n",
       "        [-1.06108248e-01],\n",
       "        [ 1.27782434e-01],\n",
       "        [-1.72227964e-01],\n",
       "        [-1.76734403e-01],\n",
       "        [-1.27266627e-03],\n",
       "        [ 4.64694016e-02],\n",
       "        [-5.10419384e-02],\n",
       "        [-2.11795077e-01],\n",
       "        [ 8.26604888e-02],\n",
       "        [-3.07724364e-02],\n",
       "        [ 2.79709280e-01],\n",
       "        [-6.57625645e-02],\n",
       "        [ 3.53017934e-02],\n",
       "        [ 3.47811252e-01],\n",
       "        [ 7.81139219e-03],\n",
       "        [ 3.68087381e-01],\n",
       "        [ 1.69070438e-01],\n",
       "        [-5.44384122e-02],\n",
       "        [-4.40391153e-02],\n",
       "        [-4.79473732e-03],\n",
       "        [ 3.29994895e-02],\n",
       "        [-7.08096325e-02],\n",
       "        [ 1.11323103e-01],\n",
       "        [-1.77760750e-01],\n",
       "        [-3.25978026e-02],\n",
       "        [ 4.17180955e-01],\n",
       "        [ 9.52868536e-02],\n",
       "        [ 1.10416859e-01],\n",
       "        [ 3.54640484e-02],\n",
       "        [-5.49471676e-02],\n",
       "        [-2.26134136e-02],\n",
       "        [-1.91545993e-01],\n",
       "        [ 1.45844087e-01],\n",
       "        [ 9.04487371e-02],\n",
       "        [ 2.91197240e-01],\n",
       "        [ 1.96417317e-01],\n",
       "        [-1.61407754e-01],\n",
       "        [-2.28795707e-01],\n",
       "        [-1.41719699e-01],\n",
       "        [ 1.73203975e-01],\n",
       "        [ 5.42017408e-02],\n",
       "        [ 3.02008837e-02],\n",
       "        [ 9.57356244e-02],\n",
       "        [-2.06016228e-01],\n",
       "        [ 1.58585653e-01],\n",
       "        [ 1.79329604e-01],\n",
       "        [-1.65302679e-01],\n",
       "        [-5.50351590e-02],\n",
       "        [ 1.37788936e-01],\n",
       "        [ 2.61030197e-01]], dtype=float32),\n",
       " array([0.62990963], dtype=float32)]"
      ]
     },
     "execution_count": 4,
     "metadata": {},
     "output_type": "execute_result"
    }
   ],
   "source": [
    "model.get_weights()"
   ]
  },
  {
   "cell_type": "code",
   "execution_count": 5,
   "metadata": {},
   "outputs": [],
   "source": [
    "# Step 2: Helper Functions\n",
    "# Function to decode reviews\n",
    "def decode_review(encoded_review):\n",
    "    return ' '.join([reverse_word_index.get(i - 3, '?') for i in encoded_review])\n",
    "\n",
    "# Function to preprocess user input\n",
    "def preprocess_text(text):\n",
    "    words = text.lower().split()\n",
    "    encoded_review = [word_index.get(word, 2) + 3 for word in words]\n",
    "    padded_review = sequence.pad_sequences([encoded_review], maxlen=500)\n",
    "    return padded_review"
   ]
  },
  {
   "cell_type": "code",
   "execution_count": 6,
   "metadata": {},
   "outputs": [],
   "source": [
    "### Prediction  function\n",
    "\n",
    "def predict_sentiment(review):\n",
    "    preprocessed_input=preprocess_text(review)\n",
    "\n",
    "    prediction=model.predict(preprocessed_input)\n",
    "\n",
    "    sentiment = 'Positive' if prediction[0][0] > 0.5 else 'Negative'\n",
    "    \n",
    "    return sentiment, prediction[0][0]\n",
    "\n"
   ]
  },
  {
   "cell_type": "code",
   "execution_count": 7,
   "metadata": {},
   "outputs": [
    {
     "name": "stdout",
     "output_type": "stream",
     "text": [
      "\u001b[1m1/1\u001b[0m \u001b[32m━━━━━━━━━━━━━━━━━━━━\u001b[0m\u001b[37m\u001b[0m \u001b[1m0s\u001b[0m 171ms/step\n",
      "Review: This movie was fantastic! The acting was great and the plot was thrilling.\n",
      "Sentiment: Negative\n",
      "Prediction Score: 0.25628626346588135\n"
     ]
    }
   ],
   "source": [
    "# Step 4: User Input and Prediction\n",
    "# Example review for prediction\n",
    "example_review = \"This movie was fantastic! The acting was great and the plot was thrilling.\"\n",
    "\n",
    "sentiment,score=predict_sentiment(example_review)\n",
    "\n",
    "print(f'Review: {example_review}')\n",
    "print(f'Sentiment: {sentiment}')\n",
    "print(f'Prediction Score: {score}')"
   ]
  },
  {
   "cell_type": "code",
   "execution_count": null,
   "metadata": {},
   "outputs": [],
   "source": []
  },
  {
   "cell_type": "code",
   "execution_count": null,
   "metadata": {},
   "outputs": [],
   "source": []
  },
  {
   "cell_type": "code",
   "execution_count": null,
   "metadata": {},
   "outputs": [],
   "source": []
  },
  {
   "cell_type": "code",
   "execution_count": null,
   "metadata": {},
   "outputs": [],
   "source": []
  }
 ],
 "metadata": {
  "kernelspec": {
   "display_name": "venv",
   "language": "python",
   "name": "python3"
  },
  "language_info": {
   "codemirror_mode": {
    "name": "ipython",
    "version": 3
   },
   "file_extension": ".py",
   "mimetype": "text/x-python",
   "name": "python",
   "nbconvert_exporter": "python",
   "pygments_lexer": "ipython3",
   "version": "3.12.0"
  }
 },
 "nbformat": 4,
 "nbformat_minor": 2
}
